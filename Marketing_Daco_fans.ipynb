{
 "cells": [
  {
   "cell_type": "code",
   "execution_count": 1,
   "id": "b6ba18fd",
   "metadata": {},
   "outputs": [],
   "source": [
    "import pandas as pd\n",
    "import seaborn as sns\n",
    "import plotly.express as px\n",
    "import matplotlib.pyplot as plt"
   ]
  },
  {
   "cell_type": "code",
   "execution_count": 2,
   "id": "24a2079c",
   "metadata": {},
   "outputs": [],
   "source": [
    "df = pd.read_csv('campaigns.csv')"
   ]
  },
  {
   "cell_type": "code",
   "execution_count": 3,
   "id": "c9f7a5a0",
   "metadata": {},
   "outputs": [
    {
     "name": "stdout",
     "output_type": "stream",
     "text": [
      "<class 'pandas.core.frame.DataFrame'>\n",
      "RangeIndex: 2240 entries, 0 to 2239\n",
      "Data columns (total 26 columns):\n",
      " #   Column                    Non-Null Count  Dtype  \n",
      "---  ------                    --------------  -----  \n",
      " 0   int64_field_0             2240 non-null   int64  \n",
      " 1   ID                        2240 non-null   int64  \n",
      " 2   YearBirth                 2240 non-null   int64  \n",
      " 3   Education                 2240 non-null   object \n",
      " 4   MaritalStatus             2240 non-null   object \n",
      " 5   Income                    2216 non-null   float64\n",
      " 6   Kidhome                   2240 non-null   int64  \n",
      " 7   Teenhome                  2240 non-null   int64  \n",
      " 8   Dt_Customer               2240 non-null   object \n",
      " 9   Recency                   2240 non-null   int64  \n",
      " 10  NumDealsPurchases         2240 non-null   int64  \n",
      " 11  NumWebPurchases           2240 non-null   int64  \n",
      " 12  NumStadiumPurchases       2240 non-null   int64  \n",
      " 13  AcceptedCmp3              2240 non-null   int64  \n",
      " 14  AcceptedCmp4              2240 non-null   int64  \n",
      " 15  AcceptedCmp5              2240 non-null   int64  \n",
      " 16  AcceptedCmp1              2240 non-null   int64  \n",
      " 17  AcceptedCmp2              2240 non-null   int64  \n",
      " 18  Complain                  2240 non-null   int64  \n",
      " 19  Response                  2240 non-null   int64  \n",
      " 20  TotalPreferentialParking  2240 non-null   int64  \n",
      " 21  TotalFood                 2240 non-null   int64  \n",
      " 22  TotalVipPass              2240 non-null   int64  \n",
      " 23  TotalFastPass             2240 non-null   int64  \n",
      " 24  TotalDrinks               2240 non-null   int64  \n",
      " 25  TotalFamilyPack           2240 non-null   int64  \n",
      "dtypes: float64(1), int64(22), object(3)\n",
      "memory usage: 455.1+ KB\n"
     ]
    }
   ],
   "source": [
    "df.info()"
   ]
  },
  {
   "cell_type": "code",
   "execution_count": null,
   "id": "0a1b9723",
   "metadata": {},
   "outputs": [],
   "source": []
  }
 ],
 "metadata": {
  "kernelspec": {
   "display_name": "Python 3 (ipykernel)",
   "language": "python",
   "name": "python3"
  },
  "language_info": {
   "codemirror_mode": {
    "name": "ipython",
    "version": 3
   },
   "file_extension": ".py",
   "mimetype": "text/x-python",
   "name": "python",
   "nbconvert_exporter": "python",
   "pygments_lexer": "ipython3",
   "version": "3.9.12"
  }
 },
 "nbformat": 4,
 "nbformat_minor": 5
}
